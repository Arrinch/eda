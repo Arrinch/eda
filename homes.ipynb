{
 "cells": [
  {
   "cell_type": "code",
   "execution_count": 2,
   "metadata": {
    "collapsed": true
   },
   "outputs": [
    {
     "data": {
      "text/plain": "<Figure size 432x288 with 1 Axes>",
      "image/png": "[encoded data removed]"
     },
     "metadata": {
      "needs_background": "light"
     },
     "output_type": "display_data"
    }
   ],
   "source": [
    "import pandas as pd\n",
    "import matplotlib.pyplot as plt\n",
    "\n",
    "#df import\n",
    "df1 = pd.read_csv(\"./data/kc_house_data.csv\")\n",
    "\n",
    "#Price-area graph\n",
    "y = df1['price']\n",
    "x = df1['sqft_living']\n",
    "\n",
    "plt.scatter(x, y)\n",
    "plt.title('price and sqft')\n",
    "plt.show()\n"
   ]
  },
  {
   "cell_type": "code",
   "source": [
    "#Search for the maximum, minimum and average price\n",
    "sortedbyprice = df1.sort_values(by='price', ascending=True)\n",
    "print(sortedbyprice)\n",
    "p = df1['price']\n",
    "avg_value = sum(p) / len(p)\n",
    "print('avarage price = ', (avg_value))\n",
    "print('max = ', (avg_value))\n",
    "print('min = ', (avg_value))"
   ],
   "metadata": {
    "collapsed": false,
    "pycharm": {
     "name": "#%%\n"
    }
   },
   "execution_count": 3,
   "outputs": [
    {
     "name": "stdout",
     "output_type": "stream",
     "text": [
      "               id             date      price  bedrooms  bathrooms  \\\n",
      "1149   3421079032  20150217T000000    75000.0         1       0.00   \n",
      "15293    40000362  20140506T000000    78000.0         2       1.00   \n",
      "465    8658300340  20140523T000000    80000.0         1       0.75   \n",
      "16198  3028200080  20150324T000000    81000.0         2       1.00   \n",
      "8274   3883800011  20141105T000000    82000.0         3       1.00   \n",
      "...           ...              ...        ...       ...        ...   \n",
      "1448   8907500070  20150413T000000  5350000.0         5       5.00   \n",
      "4411   2470100110  20140804T000000  5570000.0         5       5.75   \n",
      "9254   9208900037  20140919T000000  6885000.0         6       7.75   \n",
      "3914   9808700762  20140611T000000  7062500.0         5       4.50   \n",
      "7252   6762700020  20141013T000000  7700000.0         6       8.00   \n",
      "\n",
      "       sqft_living  sqft_lot  floors  waterfront  view  ...  grade  \\\n",
      "1149           670     43377     1.0           0     0  ...      3   \n",
      "15293          780     16344     1.0           0     0  ...      5   \n",
      "465            430      5050     1.0           0     0  ...      4   \n",
      "16198          730      9975     1.0           0     0  ...      5   \n",
      "8274           860     10426     1.0           0     0  ...      6   \n",
      "...            ...       ...     ...         ...   ...  ...    ...   \n",
      "1448          8000     23985     2.0           0     4  ...     12   \n",
      "4411          9200     35069     2.0           0     0  ...     13   \n",
      "9254          9890     31374     2.0           0     4  ...     13   \n",
      "3914         10040     37325     2.0           1     2  ...     11   \n",
      "7252         12050     27600     2.5           0     3  ...     13   \n",
      "\n",
      "       sqft_above  sqft_basement  yr_built  yr_renovated  zipcode      lat  \\\n",
      "1149          670              0      1966             0    98022  47.2638   \n",
      "15293         780              0      1942             0    98168  47.4739   \n",
      "465           430              0      1912             0    98014  47.6499   \n",
      "16198         730              0      1943             0    98168  47.4808   \n",
      "8274          860              0      1954             0    98146  47.4987   \n",
      "...           ...            ...       ...           ...      ...      ...   \n",
      "1448         6720           1280      2009             0    98004  47.6232   \n",
      "4411         6200           3000      2001             0    98039  47.6289   \n",
      "9254         8860           1030      2001             0    98039  47.6305   \n",
      "3914         7680           2360      1940          2001    98004  47.6500   \n",
      "7252         8570           3480      1910          1987    98102  47.6298   \n",
      "\n",
      "          long  sqft_living15  sqft_lot15  \n",
      "1149  -121.906           1160       42882  \n",
      "15293 -122.280           1700       10387  \n",
      "465   -121.909           1200        7500  \n",
      "16198 -122.315            860        9000  \n",
      "8274  -122.341           1140       11250  \n",
      "...        ...            ...         ...  \n",
      "1448  -122.220           4600       21750  \n",
      "4411  -122.233           3560       24345  \n",
      "9254  -122.240           4540       42730  \n",
      "3914  -122.214           3930       25449  \n",
      "7252  -122.323           3940        8800  \n",
      "\n",
      "[21613 rows x 21 columns]\n",
      "avarage price =  540088.1417665294\n",
      "max =  540088.1417665294\n",
      "min =  540088.1417665294\n"
     ]
    }
   ]
  },
  {
   "cell_type": "markdown",
   "source": [
    "TODO please remove me. Please use algorithms for showing the results\n",
    "max - 7700000.0, min - 75000.0, avg - 540088.1417665294"
   ],
   "metadata": {
    "collapsed": false,
    "pycharm": {
     "name": "#%% md\n"
    }
   }
  },
  {
   "cell_type": "code",
   "execution_count": 4,
   "outputs": [
    {
     "name": "stdout",
     "output_type": "stream",
     "text": [
      "199\n",
      "2760\n",
      "18641\n"
     ]
    },
    {
     "data": {
      "text/plain": "<Figure size 432x288 with 1 Axes>",
      "image/png": "[encoded data removed]"
     },
     "metadata": {
      "needs_background": "light"
     },
     "output_type": "display_data"
    }
   ],
   "source": [
    "#Bedrooms chart\n",
    "z = df1['bedrooms']\n",
    "\n",
    "onebrm = []\n",
    "twobdrms = []\n",
    "thrrmr = []\n",
    "\n",
    "for i in z:\n",
    "    if (i == 1):\n",
    "        onebrm.append(i)\n",
    "    elif (i == 2):\n",
    "        twobdrms.append(1)\n",
    "    elif (i >= 3):\n",
    "        thrrmr.append(1)\n",
    "\n",
    "print(len(onebrm))\n",
    "print(len(twobdrms))\n",
    "print(len(thrrmr))\n",
    "\n",
    "#TODO please use algo results to the outputs\n",
    "quantityb = [199, 2760, 18641]\n",
    "bedrooms = ['one', 'two', 'three or more']\n",
    "\n",
    "plt.barh(bedrooms, quantityb)\n",
    "\n",
    "plt.title('how many bedrooms?')\n",
    "\n",
    "plt.show()"
   ],
   "metadata": {
    "collapsed": false,
    "pycharm": {
     "name": "#%%\n"
    }
   }
  },
  {
   "cell_type": "code",
   "execution_count": 5,
   "outputs": [
    {
     "ename": "ValueError",
     "evalue": "not enough values to unpack (expected 3, got 0)",
     "output_type": "error",
     "traceback": [
      "\u001B[0;31m---------------------------------------------------------------------------\u001B[0m",
      "\u001B[0;31mValueError\u001B[0m                                Traceback (most recent call last)",
      "Input \u001B[0;32mIn [5]\u001B[0m, in \u001B[0;36m<module>\u001B[0;34m\u001B[0m\n\u001B[1;32m      1\u001B[0m \u001B[38;5;66;03m#Floors chart\u001B[39;00m\n\u001B[1;32m      2\u001B[0m f \u001B[38;5;241m=\u001B[39m df1[\u001B[38;5;124m'\u001B[39m\u001B[38;5;124mfloors\u001B[39m\u001B[38;5;124m'\u001B[39m]\n\u001B[0;32m----> 4\u001B[0m oneflr, onenhfflr, twrmr \u001B[38;5;241m=\u001B[39m []\n\u001B[1;32m      5\u001B[0m \u001B[38;5;66;03m#TODO please wrap current logic to the function 'def'\u001B[39;00m\n\u001B[1;32m      6\u001B[0m \u001B[38;5;28;01mfor\u001B[39;00m i \u001B[38;5;129;01min\u001B[39;00m f:\n",
      "\u001B[0;31mValueError\u001B[0m: not enough values to unpack (expected 3, got 0)"
     ]
    }
   ],
   "source": [
    "#Floors chart\n",
    "f = df1['floors']\n",
    "\n",
    "oneflr, onenhfflr, twrmr = []\n",
    "#TODO please wrap current logic to the function 'def'\n",
    "for i in f:\n",
    "    if (i == 1):\n",
    "        oneflr.append(i)\n",
    "    elif (i > 1) and (i < 2):\n",
    "        onenhfflr.append(1)\n",
    "    elif (i >= 2):\n",
    "        twrmr.append(1)\n",
    "\n",
    "print(len(oneflr))\n",
    "print(len(onenhfflr))\n",
    "print(len(twrmr))\n",
    "#TODO please use algo results to the outputs\n",
    "quantityf = [10680, 1910, 9023]\n",
    "floors = ['one', 'one and half', 'two or more']\n",
    "\n",
    "plt.barh(floors, quantityf)\n",
    "plt.title('how many floors?')\n",
    "plt.show()"
   ],
   "metadata": {
    "collapsed": false,
    "pycharm": {
     "name": "#%%\n"
    }
   }
  }
 ],
 "metadata": {
  "kernelspec": {
   "display_name": "Python 3",
   "language": "python",
   "name": "python3"
  },
  "language_info": {
   "codemirror_mode": {
    "name": "ipython",
    "version": 2
   },
   "file_extension": ".py",
   "mimetype": "text/x-python",
   "name": "python",
   "nbconvert_exporter": "python",
   "pygments_lexer": "ipython2",
   "version": "2.7.6"
  }
 },
 "nbformat": 4,
 "nbformat_minor": 0
}